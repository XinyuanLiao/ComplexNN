{
  "cells": [
    {
      "cell_type": "markdown",
      "metadata": {
        "id": "view-in-github",
        "colab_type": "text"
      },
      "source": [
        "<a href=\"https://colab.research.google.com/github/XinyuanLiao/ComplexNN/blob/main/demo.ipynb\" target=\"_parent\"><img src=\"https://colab.research.google.com/assets/colab-badge.svg\" alt=\"Open In Colab\"/></a>"
      ]
    },
    {
      "cell_type": "code",
      "source": [
        "%pip install complexNN\n",
        "%pip install torchsummaryX"
      ],
      "metadata": {
        "colab": {
          "base_uri": "https://localhost:8080/"
        },
        "id": "xNeOqi-6efoL",
        "outputId": "8f27edca-94da-45f6-efc4-43d40447adfe"
      },
      "id": "xNeOqi-6efoL",
      "execution_count": 1,
      "outputs": [
        {
          "output_type": "stream",
          "name": "stdout",
          "text": [
            "Collecting complexNN\n",
            "  Downloading complexNN-0.4.2.tar.gz (11 kB)\n",
            "  Preparing metadata (setup.py) ... \u001b[?25l\u001b[?25hdone\n",
            "Requirement already satisfied: torch in /usr/local/lib/python3.10/dist-packages (from complexNN) (2.1.0+cu118)\n",
            "Requirement already satisfied: numpy in /usr/local/lib/python3.10/dist-packages (from complexNN) (1.23.5)\n",
            "Requirement already satisfied: filelock in /usr/local/lib/python3.10/dist-packages (from torch->complexNN) (3.12.4)\n",
            "Requirement already satisfied: typing-extensions in /usr/local/lib/python3.10/dist-packages (from torch->complexNN) (4.5.0)\n",
            "Requirement already satisfied: sympy in /usr/local/lib/python3.10/dist-packages (from torch->complexNN) (1.12)\n",
            "Requirement already satisfied: networkx in /usr/local/lib/python3.10/dist-packages (from torch->complexNN) (3.2)\n",
            "Requirement already satisfied: jinja2 in /usr/local/lib/python3.10/dist-packages (from torch->complexNN) (3.1.2)\n",
            "Requirement already satisfied: fsspec in /usr/local/lib/python3.10/dist-packages (from torch->complexNN) (2023.6.0)\n",
            "Requirement already satisfied: triton==2.1.0 in /usr/local/lib/python3.10/dist-packages (from torch->complexNN) (2.1.0)\n",
            "Requirement already satisfied: MarkupSafe>=2.0 in /usr/local/lib/python3.10/dist-packages (from jinja2->torch->complexNN) (2.1.3)\n",
            "Requirement already satisfied: mpmath>=0.19 in /usr/local/lib/python3.10/dist-packages (from sympy->torch->complexNN) (1.3.0)\n",
            "Building wheels for collected packages: complexNN\n",
            "  Building wheel for complexNN (setup.py) ... \u001b[?25l\u001b[?25hdone\n",
            "  Created wheel for complexNN: filename=complexNN-0.4.2-py3-none-any.whl size=9656 sha256=17d1ee654cb4768217860f3747786273f78ba6d768e247d43f618ad16ba1d66b\n",
            "  Stored in directory: /root/.cache/pip/wheels/82/8e/c2/8deeb36761f3a65ad250cf4757d2afb21f36887816fb7d44dd\n",
            "Successfully built complexNN\n",
            "Installing collected packages: complexNN\n",
            "Successfully installed complexNN-0.4.2\n",
            "Collecting torchsummaryX\n",
            "  Downloading torchsummaryX-1.3.0-py3-none-any.whl (3.6 kB)\n",
            "Requirement already satisfied: torch in /usr/local/lib/python3.10/dist-packages (from torchsummaryX) (2.1.0+cu118)\n",
            "Requirement already satisfied: numpy in /usr/local/lib/python3.10/dist-packages (from torchsummaryX) (1.23.5)\n",
            "Requirement already satisfied: pandas in /usr/local/lib/python3.10/dist-packages (from torchsummaryX) (1.5.3)\n",
            "Requirement already satisfied: python-dateutil>=2.8.1 in /usr/local/lib/python3.10/dist-packages (from pandas->torchsummaryX) (2.8.2)\n",
            "Requirement already satisfied: pytz>=2020.1 in /usr/local/lib/python3.10/dist-packages (from pandas->torchsummaryX) (2023.3.post1)\n",
            "Requirement already satisfied: filelock in /usr/local/lib/python3.10/dist-packages (from torch->torchsummaryX) (3.12.4)\n",
            "Requirement already satisfied: typing-extensions in /usr/local/lib/python3.10/dist-packages (from torch->torchsummaryX) (4.5.0)\n",
            "Requirement already satisfied: sympy in /usr/local/lib/python3.10/dist-packages (from torch->torchsummaryX) (1.12)\n",
            "Requirement already satisfied: networkx in /usr/local/lib/python3.10/dist-packages (from torch->torchsummaryX) (3.2)\n",
            "Requirement already satisfied: jinja2 in /usr/local/lib/python3.10/dist-packages (from torch->torchsummaryX) (3.1.2)\n",
            "Requirement already satisfied: fsspec in /usr/local/lib/python3.10/dist-packages (from torch->torchsummaryX) (2023.6.0)\n",
            "Requirement already satisfied: triton==2.1.0 in /usr/local/lib/python3.10/dist-packages (from torch->torchsummaryX) (2.1.0)\n",
            "Requirement already satisfied: six>=1.5 in /usr/local/lib/python3.10/dist-packages (from python-dateutil>=2.8.1->pandas->torchsummaryX) (1.16.0)\n",
            "Requirement already satisfied: MarkupSafe>=2.0 in /usr/local/lib/python3.10/dist-packages (from jinja2->torch->torchsummaryX) (2.1.3)\n",
            "Requirement already satisfied: mpmath>=0.19 in /usr/local/lib/python3.10/dist-packages (from sympy->torch->torchsummaryX) (1.3.0)\n",
            "Installing collected packages: torchsummaryX\n",
            "Successfully installed torchsummaryX-1.3.0\n"
          ]
        }
      ]
    },
    {
      "cell_type": "markdown",
      "id": "7512cea0",
      "metadata": {
        "id": "7512cea0"
      },
      "source": [
        "# _Conv1d, Conv2d_"
      ]
    },
    {
      "cell_type": "code",
      "execution_count": 4,
      "id": "f3d2c8f1",
      "metadata": {
        "colab": {
          "base_uri": "https://localhost:8080/"
        },
        "id": "f3d2c8f1",
        "outputId": "943bece7-bbe1-415f-b7c0-2c8cd502f662"
      },
      "outputs": [
        {
          "output_type": "stream",
          "name": "stdout",
          "text": [
            "torch.Size([1, 16, 10])\n",
            "===================================================================\n",
            "             Kernel Shape       Output Shape   Params    Mult-Adds\n",
            "Layer                                                             \n",
            "0_conv1     [3, 16, 3, 3]  [1, 16, 256, 256]    432.0   28.311552M\n",
            "1_ac                    -  [1, 16, 256, 256]        -            -\n",
            "2_dropout               -  [1, 16, 256, 256]        -            -\n",
            "3_maxpool               -  [1, 16, 254, 254]        -            -\n",
            "4_conv2    [16, 16, 3, 3]  [1, 16, 254, 254]   2.304k  148.644864M\n",
            "5_ac                    -  [1, 16, 254, 254]        -            -\n",
            "6_dropout               -  [1, 16, 254, 254]        -            -\n",
            "7_maxpool               -  [1, 16, 252, 252]        -            -\n",
            "8_fc          [63504, 10]        [1, 16, 10]  635.05k      635.04k\n",
            "-------------------------------------------------------------------\n",
            "                           Totals\n",
            "Total params             637.786k\n",
            "Trainable params         637.786k\n",
            "Non-trainable params          0.0\n",
            "Mult-Adds             177.591456M\n",
            "===================================================================\n"
          ]
        },
        {
          "output_type": "stream",
          "name": "stderr",
          "text": [
            "/usr/local/lib/python3.10/dist-packages/torchsummaryX/torchsummaryX.py:101: FutureWarning: The default value of numeric_only in DataFrame.sum is deprecated. In a future version, it will default to False. In addition, specifying 'numeric_only=None' is deprecated. Select only valid columns or specify the value of numeric_only to silence this warning.\n",
            "  df_sum = df.sum()\n"
          ]
        }
      ],
      "source": [
        "import torch\n",
        "import torch.nn as nn\n",
        "from torchsummaryX import summary\n",
        "import complexNN.nn as cnn\n",
        "\n",
        "\n",
        "class CNN(nn.Module):\n",
        "    def __init__(self, in_channels, out_channels):\n",
        "        super().__init__()\n",
        "        self.conv1 = cnn.cConv2d(in_channels, out_channels, padding='same')\n",
        "        self.conv2 = cnn.cConv2d(out_channels, out_channels, padding='same')\n",
        "        self.dropout = cnn.cDropout2d()\n",
        "        self.maxpool = cnn.cMaxPool2d(kernel_size=3, stride=1)\n",
        "        self.fc = cnn.cLinear(252*252, 10)\n",
        "        self.ac = cnn.cRelu()\n",
        "\n",
        "    def forward(self, x):\n",
        "        x = self.dropout(self.ac(self.conv1(x)))\n",
        "        x = self.maxpool(x)\n",
        "        x = self.dropout(self.ac(self.conv2(x)))\n",
        "        x = self.maxpool(x)\n",
        "        x = x.reshape(x.shape[0], x.shape[1], -1)\n",
        "        return self.fc(x)\n",
        "\n",
        "\n",
        "if __name__ == '__main__':\n",
        "    batch_size, in_channels, out_channels, seq_len = 1, 3, 16, 10\n",
        "    H, W = 256, 256\n",
        "    conv2d_tensor = torch.rand((batch_size, in_channels, H, W))\n",
        "    convnn = CNN(in_channels, out_channels)\n",
        "    print(convnn(conv2d_tensor).shape)\n",
        "    summary(convnn, conv2d_tensor)"
      ]
    },
    {
      "cell_type": "markdown",
      "id": "c2e61858",
      "metadata": {
        "id": "c2e61858"
      },
      "source": [
        "# _MLP_"
      ]
    },
    {
      "cell_type": "code",
      "execution_count": 5,
      "id": "9e577dcd",
      "metadata": {
        "colab": {
          "base_uri": "https://localhost:8080/"
        },
        "id": "9e577dcd",
        "outputId": "23904fbb-c324-4570-cbcc-ebc2be63b220"
      },
      "outputs": [
        {
          "output_type": "stream",
          "name": "stdout",
          "text": [
            "torch.Size([10, 15])\n",
            "======================================================================\n",
            "                          Kernel Shape Output Shape Params Mult-Adds\n",
            "Layer                                                               \n",
            "0_input_layer                 [10, 20]     [10, 20]  220.0     200.0\n",
            "1_activation                         -     [10, 20]      -         -\n",
            "2_hidden_layers.cLinear_0     [20, 20]     [10, 20]  420.0     400.0\n",
            "3_activation                         -     [10, 20]      -         -\n",
            "4_hidden_layers.cLinear_1     [20, 20]     [10, 20]  420.0     400.0\n",
            "5_activation                         -     [10, 20]      -         -\n",
            "6_output_layer                [20, 15]     [10, 15]  315.0     300.0\n",
            "----------------------------------------------------------------------\n",
            "                      Totals\n",
            "Total params          1.375k\n",
            "Trainable params      1.375k\n",
            "Non-trainable params     0.0\n",
            "Mult-Adds               1.3k\n",
            "======================================================================\n"
          ]
        },
        {
          "output_type": "stream",
          "name": "stderr",
          "text": [
            "/usr/local/lib/python3.10/dist-packages/torchsummaryX/torchsummaryX.py:101: FutureWarning: The default value of numeric_only in DataFrame.sum is deprecated. In a future version, it will default to False. In addition, specifying 'numeric_only=None' is deprecated. Select only valid columns or specify the value of numeric_only to silence this warning.\n",
            "  df_sum = df.sum()\n"
          ]
        }
      ],
      "source": [
        "import torch\n",
        "import complexNN.nn as cnn\n",
        "\n",
        "\n",
        "if __name__ == '__main__':\n",
        "    batch_size, input_size, hidden_size, output_size = 10, 10, 20, 15\n",
        "    input_tensor = torch.rand((batch_size, input_size), dtype=torch.cfloat)\n",
        "    mlp = cnn.cMLP(input_size, hidden_size, output_size, num_layers=3)\n",
        "    out = mlp(input_tensor)\n",
        "    print(out.shape)\n",
        "    summary(mlp, input_tensor)"
      ]
    },
    {
      "cell_type": "markdown",
      "id": "461de6b0",
      "metadata": {
        "id": "461de6b0"
      },
      "source": [
        "# _RNN, GRU, LSTM_"
      ]
    },
    {
      "cell_type": "code",
      "execution_count": 6,
      "id": "7da17101",
      "metadata": {
        "colab": {
          "base_uri": "https://localhost:8080/"
        },
        "id": "7da17101",
        "outputId": "aa178c5f-88d3-4b7a-ae10-40ea4e0f7e9b"
      },
      "outputs": [
        {
          "output_type": "stream",
          "name": "stdout",
          "text": [
            "torch.Size([1, 10, 20]) torch.Size([1, 10, 20]) torch.Size([1, 10, 20])\n",
            "=====================================================================\n",
            "                         Kernel Shape Output Shape  Params  Mult-Adds\n",
            "Layer                                                                \n",
            "0_rnn_cells.0.cLinear_Wx     [10, 20]     [10, 20]     220        200\n",
            "1_rnn_cells.0.cLinear_Wh     [20, 20]     [10, 20]     420        400\n",
            "2_rnn_cells.1.cLinear_Wx     [20, 20]     [10, 20]     420        400\n",
            "3_rnn_cells.1.cLinear_Wh     [20, 20]     [10, 20]     420        400\n",
            "4_rnn_cells.2.cLinear_Wx     [20, 20]     [10, 20]     420        400\n",
            "5_rnn_cells.2.cLinear_Wh     [20, 20]     [10, 20]     420        400\n",
            "---------------------------------------------------------------------\n",
            "                      Totals\n",
            "Total params            2320\n",
            "Trainable params        2320\n",
            "Non-trainable params       0\n",
            "Mult-Adds               2200\n",
            "=====================================================================\n",
            "======================================================================\n",
            "                          Kernel Shape Output Shape  Params  Mult-Adds\n",
            "Layer                                                                 \n",
            "0_rnn_cells.0.cLinear_W_r     [30, 20]     [10, 20]     620        600\n",
            "1_rnn_cells.0.cLinear_W_z     [30, 20]     [10, 20]     620        600\n",
            "2_rnn_cells.0.cLinear_W_h     [30, 20]     [10, 20]     620        600\n",
            "3_rnn_cells.1.cLinear_W_r     [40, 20]     [10, 20]     820        800\n",
            "4_rnn_cells.1.cLinear_W_z     [40, 20]     [10, 20]     820        800\n",
            "5_rnn_cells.1.cLinear_W_h     [40, 20]     [10, 20]     820        800\n",
            "6_rnn_cells.2.cLinear_W_r     [40, 20]     [10, 20]     820        800\n",
            "7_rnn_cells.2.cLinear_W_z     [40, 20]     [10, 20]     820        800\n",
            "8_rnn_cells.2.cLinear_W_h     [40, 20]     [10, 20]     820        800\n",
            "----------------------------------------------------------------------\n",
            "                      Totals\n",
            "Total params            6780\n",
            "Trainable params        6780\n",
            "Non-trainable params       0\n",
            "Mult-Adds               6600\n",
            "======================================================================\n",
            "=======================================================================\n",
            "                           Kernel Shape Output Shape  Params  Mult-Adds\n",
            "Layer                                                                  \n",
            "0_rnn_cells.0.cLinear_W_i      [30, 20]     [10, 20]     620        600\n",
            "1_rnn_cells.0.cLinear_W_f      [30, 20]     [10, 20]     620        600\n",
            "2_rnn_cells.0.cLinear_W_c      [30, 20]     [10, 20]     620        600\n",
            "3_rnn_cells.0.cLinear_W_o      [30, 20]     [10, 20]     620        600\n",
            "4_rnn_cells.1.cLinear_W_i      [40, 20]     [10, 20]     820        800\n",
            "5_rnn_cells.1.cLinear_W_f      [40, 20]     [10, 20]     820        800\n",
            "6_rnn_cells.1.cLinear_W_c      [40, 20]     [10, 20]     820        800\n",
            "7_rnn_cells.1.cLinear_W_o      [40, 20]     [10, 20]     820        800\n",
            "8_rnn_cells.2.cLinear_W_i      [40, 20]     [10, 20]     820        800\n",
            "9_rnn_cells.2.cLinear_W_f      [40, 20]     [10, 20]     820        800\n",
            "10_rnn_cells.2.cLinear_W_c     [40, 20]     [10, 20]     820        800\n",
            "11_rnn_cells.2.cLinear_W_o     [40, 20]     [10, 20]     820        800\n",
            "-----------------------------------------------------------------------\n",
            "                      Totals\n",
            "Total params            9040\n",
            "Trainable params        9040\n",
            "Non-trainable params       0\n",
            "Mult-Adds               8800\n",
            "=======================================================================\n"
          ]
        },
        {
          "output_type": "stream",
          "name": "stderr",
          "text": [
            "/usr/local/lib/python3.10/dist-packages/torchsummaryX/torchsummaryX.py:101: FutureWarning: The default value of numeric_only in DataFrame.sum is deprecated. In a future version, it will default to False. In addition, specifying 'numeric_only=None' is deprecated. Select only valid columns or specify the value of numeric_only to silence this warning.\n",
            "  df_sum = df.sum()\n",
            "/usr/local/lib/python3.10/dist-packages/torchsummaryX/torchsummaryX.py:101: FutureWarning: The default value of numeric_only in DataFrame.sum is deprecated. In a future version, it will default to False. In addition, specifying 'numeric_only=None' is deprecated. Select only valid columns or specify the value of numeric_only to silence this warning.\n",
            "  df_sum = df.sum()\n",
            "/usr/local/lib/python3.10/dist-packages/torchsummaryX/torchsummaryX.py:101: FutureWarning: The default value of numeric_only in DataFrame.sum is deprecated. In a future version, it will default to False. In addition, specifying 'numeric_only=None' is deprecated. Select only valid columns or specify the value of numeric_only to silence this warning.\n",
            "  df_sum = df.sum()\n"
          ]
        }
      ],
      "source": [
        "import torch\n",
        "import complexNN.nn as cnn\n",
        "\n",
        "\n",
        "if __name__ == '__main__':\n",
        "    batch_size, input_size, hidden_size, seq_len, num_layers = 10, 10, 20, 1, 3\n",
        "    input_tensor = torch.rand((seq_len, batch_size, input_size), dtype=torch.cfloat)\n",
        "    h0, c0 = torch.zeros((num_layers, batch_size, hidden_size)), torch.zeros((num_layers, batch_size, hidden_size))\n",
        "\n",
        "    rnn = cnn.cRNN(input_size, hidden_size, num_layers)\n",
        "    gru = cnn.cGRU(input_size, hidden_size, num_layers)\n",
        "    lstm = cnn.cLSTM(input_size, hidden_size, num_layers)\n",
        "\n",
        "    rnn_out, _ = rnn(input_tensor, h0)\n",
        "    gru_out, _ = gru(input_tensor, h0)\n",
        "    lstm_out, _ = lstm(input_tensor, (h0, c0))\n",
        "\n",
        "    print(rnn_out.shape, gru_out.shape, lstm_out.shape)\n",
        "    summary(rnn, input_tensor, h0)\n",
        "    summary(gru, input_tensor, h0)\n",
        "    summary(lstm, input_tensor, (h0, c0))"
      ]
    },
    {
      "cell_type": "code",
      "execution_count": null,
      "id": "38d55649",
      "metadata": {
        "id": "38d55649"
      },
      "outputs": [],
      "source": []
    }
  ],
  "metadata": {
    "kernelspec": {
      "display_name": "Python 3",
      "language": "python",
      "name": "python3"
    },
    "language_info": {
      "codemirror_mode": {
        "name": "ipython",
        "version": 3
      },
      "file_extension": ".py",
      "mimetype": "text/x-python",
      "name": "python",
      "nbconvert_exporter": "python",
      "pygments_lexer": "ipython3",
      "version": "3.7.0"
    },
    "colab": {
      "provenance": [],
      "include_colab_link": true
    }
  },
  "nbformat": 4,
  "nbformat_minor": 5
}