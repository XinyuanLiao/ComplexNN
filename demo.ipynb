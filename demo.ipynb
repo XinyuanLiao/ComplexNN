{
 "cells": [
  {
   "cell_type": "markdown",
   "id": "a8ea34aa",
   "metadata": {},
   "source": [
    "# Conv1d, Conv2d"
   ]
  },
  {
   "cell_type": "code",
   "execution_count": 1,
   "id": "4e61b923",
   "metadata": {},
   "outputs": [
    {
     "name": "stdout",
     "output_type": "stream",
     "text": [
      "torch.Size([10, 16, 10])\n",
      "torch.Size([10, 16, 256, 256])\n"
     ]
    }
   ],
   "source": [
    "import torch\n",
    "from complexNN.complexLayer import complexConv1d, complexConv2d\n",
    "\n",
    "\n",
    "if __name__ == '__main__':\n",
    "    batch_size, in_channels, out_channels, seq_len = 10, 3, 16, 10\n",
    "    conv_tensor = torch.rand((batch_size, in_channels, seq_len))\n",
    "    con1d = complexConv1d(in_channels, out_channels, padding='same')\n",
    "    print(con1d(conv_tensor).shape)\n",
    "\n",
    "    H, W = 256, 256\n",
    "    conv2d_tensor = torch.rand((batch_size, in_channels, H, W))\n",
    "    conv2d = complexConv2d(in_channels, out_channels, padding=1)\n",
    "    print(conv2d(conv2d_tensor).shape)"
   ]
  },
  {
   "cell_type": "markdown",
   "id": "e0a74845",
   "metadata": {},
   "source": [
    "# MLP"
   ]
  },
  {
   "cell_type": "code",
   "execution_count": 4,
   "id": "a08dedec",
   "metadata": {},
   "outputs": [
    {
     "name": "stdout",
     "output_type": "stream",
     "text": [
      "torch.Size([10, 15])\n"
     ]
    }
   ],
   "source": [
    "import torch\n",
    "from complexNN.complexLayer import complexMLP\n",
    "\n",
    "\n",
    "if __name__ == '__main__':\n",
    "    batch_size, input_size, hidden_size, output_size = 10, 10, 20, 15\n",
    "    input_tensor = torch.rand((batch_size, input_size), dtype=torch.cfloat)\n",
    "    mlp = complexMLP(input_size, hidden_size, output_size, num_layers=3)\n",
    "    out = mlp(input_tensor)\n",
    "    print(out.shape)"
   ]
  },
  {
   "cell_type": "markdown",
   "id": "4d35860d",
   "metadata": {},
   "source": [
    "# RNN, GRU, LSTM"
   ]
  },
  {
   "cell_type": "code",
   "execution_count": 5,
   "id": "a8c8399f",
   "metadata": {},
   "outputs": [
    {
     "name": "stdout",
     "output_type": "stream",
     "text": [
      "torch.Size([15, 10, 20]) torch.Size([15, 10, 20]) torch.Size([15, 10, 20])\n"
     ]
    }
   ],
   "source": [
    "import torch\n",
    "from complexNN.complexRNN import complexRNN, complexGRU, complexLSTM\n",
    "\n",
    "\n",
    "if __name__ == '__main__':\n",
    "    batch_size, input_size, hidden_size, seq_len, num_layers = 10, 10, 20, 15, 3\n",
    "    input_tensor = torch.rand((seq_len, batch_size, input_size), dtype=torch.cfloat)\n",
    "    h0, c0 = torch.zeros((num_layers, batch_size, hidden_size)), torch.zeros((num_layers, batch_size, hidden_size))\n",
    "\n",
    "    rnn = complexRNN(input_size, hidden_size, num_layers)\n",
    "    gru = complexGRU(input_size, hidden_size, num_layers)\n",
    "    lstm = complexLSTM(input_size, hidden_size, num_layers)\n",
    "\n",
    "    rnn_out, _ = rnn(input_tensor, h0)\n",
    "    gru_out, _ = gru(input_tensor, h0)\n",
    "    lstm_out, _ = lstm(input_tensor, (h0, c0))\n",
    "\n",
    "    print(rnn_out.shape, gru_out.shape, lstm_out.shape)"
   ]
  },
  {
   "cell_type": "code",
   "execution_count": null,
   "id": "f2dd9cdc",
   "metadata": {},
   "outputs": [],
   "source": []
  }
 ],
 "metadata": {
  "kernelspec": {
   "display_name": "Python 3 (ipykernel)",
   "language": "python",
   "name": "python3"
  },
  "language_info": {
   "codemirror_mode": {
    "name": "ipython",
    "version": 3
   },
   "file_extension": ".py",
   "mimetype": "text/x-python",
   "name": "python",
   "nbconvert_exporter": "python",
   "pygments_lexer": "ipython3",
   "version": "3.10.6"
  },
  "widgets": {
   "application/vnd.jupyter.widget-state+json": {
    "state": {},
    "version_major": 2,
    "version_minor": 0
   }
  }
 },
 "nbformat": 4,
 "nbformat_minor": 5
}
