{
 "cells": [
  {
   "cell_type": "markdown",
   "id": "7512cea0",
   "metadata": {},
   "source": [
    "# _Conv1d, Conv2d_"
   ]
  },
  {
   "cell_type": "code",
   "execution_count": 9,
   "id": "f3d2c8f1",
   "metadata": {},
   "outputs": [
    {
     "name": "stdout",
     "output_type": "stream",
     "text": [
      "torch.Size([1, 16, 10])\n",
      "===================================================================\n",
      "             Kernel Shape       Output Shape   Params    Mult-Adds\n",
      "Layer                                                             \n",
      "0_conv1     [3, 16, 3, 3]  [1, 16, 256, 256]    432.0   28.311552M\n",
      "1_ac                    -  [1, 16, 256, 256]        -            -\n",
      "2_dropout               -  [1, 16, 256, 256]        -            -\n",
      "3_maxpool               -  [1, 16, 254, 254]        -            -\n",
      "4_conv2    [16, 16, 3, 3]  [1, 16, 254, 254]   2.304k  148.644864M\n",
      "5_ac                    -  [1, 16, 254, 254]        -            -\n",
      "6_dropout               -  [1, 16, 254, 254]        -            -\n",
      "7_maxpool               -  [1, 16, 252, 252]        -            -\n",
      "8_fc          [63504, 10]        [1, 16, 10]  635.05k      635.04k\n",
      "-------------------------------------------------------------------\n",
      "                           Totals\n",
      "Total params             637.786k\n",
      "Trainable params         637.786k\n",
      "Non-trainable params          0.0\n",
      "Mult-Adds             177.591456M\n",
      "===================================================================\n"
     ]
    },
    {
     "name": "stderr",
     "output_type": "stream",
     "text": [
      "C:\\Users\\Liao\\anaconda3\\lib\\site-packages\\torchsummaryX\\torchsummaryX.py:101: FutureWarning: Dropping of nuisance columns in DataFrame reductions (with 'numeric_only=None') is deprecated; in a future version this will raise TypeError.  Select only valid columns before calling the reduction.\n",
      "  df_sum = df.sum()\n"
     ]
    }
   ],
   "source": [
    "import torch\n",
    "from torch import nn\n",
    "from torchsummaryX import summary\n",
    "from complexNN.complexFunction import ComplexMaxPool2d, ComplexDropout2d\n",
    "from complexNN.complexActivation import cRelu\n",
    "from complexNN.complexLayer import complexConv2d, complexLinear\n",
    "\n",
    "\n",
    "class CNN(nn.Module):\n",
    "    def __init__(self, in_channels, out_channels):\n",
    "        super().__init__()\n",
    "        self.conv1 = complexConv2d(in_channels, out_channels, padding='same')\n",
    "        self.conv2 = complexConv2d(out_channels, out_channels, padding='same')\n",
    "        self.dropout = ComplexDropout2d()\n",
    "        self.maxpool = ComplexMaxPool2d(kernel_size=3, stride=1)\n",
    "        self.fc = complexLinear(252*252, 10)\n",
    "        self.ac = cRelu()\n",
    "\n",
    "    def forward(self, x):\n",
    "        x = self.dropout(self.ac(self.conv1(x)))\n",
    "        x = self.maxpool(x)\n",
    "        x = self.dropout(self.ac(self.conv2(x)))\n",
    "        x = self.maxpool(x)\n",
    "        x = x.reshape(x.shape[0], x.shape[1], -1)\n",
    "        return self.fc(x)\n",
    "\n",
    "\n",
    "if __name__ == '__main__':\n",
    "    batch_size, in_channels, out_channels, seq_len = 1, 3, 16, 10\n",
    "    H, W = 256, 256\n",
    "    conv2d_tensor = torch.rand((batch_size, in_channels, H, W))\n",
    "    cnn = CNN(in_channels, out_channels)\n",
    "    print(cnn(conv2d_tensor).shape)\n",
    "    summary(cnn, conv2d_tensor)"
   ]
  },
  {
   "cell_type": "markdown",
   "id": "c2e61858",
   "metadata": {},
   "source": [
    "# _MLP_"
   ]
  },
  {
   "cell_type": "code",
   "execution_count": 10,
   "id": "9e577dcd",
   "metadata": {},
   "outputs": [
    {
     "name": "stdout",
     "output_type": "stream",
     "text": [
      "torch.Size([10, 15])\n",
      "============================================================================\n",
      "                                Kernel Shape Output Shape Params Mult-Adds\n",
      "Layer                                                                     \n",
      "0_input_layer                       [10, 20]     [10, 20]  220.0     200.0\n",
      "1_activation                               -     [10, 20]      -         -\n",
      "2_hidden_layers.complexLinear_0     [20, 20]     [10, 20]  420.0     400.0\n",
      "3_bn.BatchNorm1d_real_bn                [20]     [10, 20]   40.0      20.0\n",
      "4_bn.BatchNorm1d_imag_bn                [20]     [10, 20]   40.0      20.0\n",
      "5_activation                               -     [10, 20]      -         -\n",
      "6_hidden_layers.complexLinear_1     [20, 20]     [10, 20]  420.0     400.0\n",
      "7_bn.BatchNorm1d_real_bn                [20]     [10, 20]      -      20.0\n",
      "8_bn.BatchNorm1d_imag_bn                [20]     [10, 20]      -      20.0\n",
      "9_activation                               -     [10, 20]      -         -\n",
      "10_output_layer                     [20, 15]     [10, 15]  315.0     300.0\n",
      "----------------------------------------------------------------------------\n",
      "                      Totals\n",
      "Total params          1.455k\n",
      "Trainable params      1.455k\n",
      "Non-trainable params     0.0\n",
      "Mult-Adds              1.38k\n",
      "============================================================================\n"
     ]
    },
    {
     "name": "stderr",
     "output_type": "stream",
     "text": [
      "C:\\Users\\Liao\\anaconda3\\lib\\site-packages\\torchsummaryX\\torchsummaryX.py:101: FutureWarning: Dropping of nuisance columns in DataFrame reductions (with 'numeric_only=None') is deprecated; in a future version this will raise TypeError.  Select only valid columns before calling the reduction.\n",
      "  df_sum = df.sum()\n"
     ]
    }
   ],
   "source": [
    "import torch\n",
    "from complexNN.complexLayer import complexMLP\n",
    "\n",
    "\n",
    "if __name__ == '__main__':\n",
    "    batch_size, input_size, hidden_size, output_size = 10, 10, 20, 15\n",
    "    input_tensor = torch.rand((batch_size, input_size), dtype=torch.cfloat)\n",
    "    mlp = complexMLP(input_size, hidden_size, output_size, num_layers=3)\n",
    "    out = mlp(input_tensor)\n",
    "    print(out.shape)\n",
    "    summary(mlp, input_tensor)"
   ]
  },
  {
   "cell_type": "markdown",
   "id": "461de6b0",
   "metadata": {},
   "source": [
    "# _RNN, GRU, LSTM_"
   ]
  },
  {
   "cell_type": "code",
   "execution_count": 14,
   "id": "7da17101",
   "metadata": {},
   "outputs": [
    {
     "name": "stdout",
     "output_type": "stream",
     "text": [
      "torch.Size([1, 10, 20]) torch.Size([1, 10, 20]) torch.Size([1, 10, 20])\n",
      "===========================================================================\n",
      "                               Kernel Shape Output Shape  Params  Mult-Adds\n",
      "Layer                                                                      \n",
      "0_rnn_cells.0.complexLinear_Wx     [10, 20]     [10, 20]     220        200\n",
      "1_rnn_cells.0.complexLinear_Wh     [20, 20]     [10, 20]     420        400\n",
      "2_rnn_cells.1.complexLinear_Wx     [20, 20]     [10, 20]     420        400\n",
      "3_rnn_cells.1.complexLinear_Wh     [20, 20]     [10, 20]     420        400\n",
      "4_rnn_cells.2.complexLinear_Wx     [20, 20]     [10, 20]     420        400\n",
      "5_rnn_cells.2.complexLinear_Wh     [20, 20]     [10, 20]     420        400\n",
      "---------------------------------------------------------------------------\n",
      "                      Totals\n",
      "Total params            2320\n",
      "Trainable params        2320\n",
      "Non-trainable params       0\n",
      "Mult-Adds               2200\n",
      "===========================================================================\n",
      "============================================================================\n",
      "                                Kernel Shape Output Shape  Params  Mult-Adds\n",
      "Layer                                                                       \n",
      "0_rnn_cells.0.complexLinear_W_r     [30, 20]     [10, 20]     620        600\n",
      "1_rnn_cells.0.complexLinear_W_z     [30, 20]     [10, 20]     620        600\n",
      "2_rnn_cells.0.complexLinear_W_h     [30, 20]     [10, 20]     620        600\n",
      "3_rnn_cells.1.complexLinear_W_r     [40, 20]     [10, 20]     820        800\n",
      "4_rnn_cells.1.complexLinear_W_z     [40, 20]     [10, 20]     820        800\n",
      "5_rnn_cells.1.complexLinear_W_h     [40, 20]     [10, 20]     820        800\n",
      "6_rnn_cells.2.complexLinear_W_r     [40, 20]     [10, 20]     820        800\n",
      "7_rnn_cells.2.complexLinear_W_z     [40, 20]     [10, 20]     820        800\n",
      "8_rnn_cells.2.complexLinear_W_h     [40, 20]     [10, 20]     820        800\n",
      "----------------------------------------------------------------------------\n",
      "                      Totals\n",
      "Total params            6780\n",
      "Trainable params        6780\n",
      "Non-trainable params       0\n",
      "Mult-Adds               6600\n",
      "============================================================================\n",
      "=============================================================================\n",
      "                                 Kernel Shape Output Shape  Params  Mult-Adds\n",
      "Layer                                                                        \n",
      "0_rnn_cells.0.complexLinear_W_i      [30, 20]     [10, 20]     620        600\n",
      "1_rnn_cells.0.complexLinear_W_f      [30, 20]     [10, 20]     620        600\n",
      "2_rnn_cells.0.complexLinear_W_c      [30, 20]     [10, 20]     620        600\n",
      "3_rnn_cells.0.complexLinear_W_o      [30, 20]     [10, 20]     620        600\n",
      "4_rnn_cells.1.complexLinear_W_i      [40, 20]     [10, 20]     820        800\n",
      "5_rnn_cells.1.complexLinear_W_f      [40, 20]     [10, 20]     820        800\n",
      "6_rnn_cells.1.complexLinear_W_c      [40, 20]     [10, 20]     820        800\n",
      "7_rnn_cells.1.complexLinear_W_o      [40, 20]     [10, 20]     820        800\n",
      "8_rnn_cells.2.complexLinear_W_i      [40, 20]     [10, 20]     820        800\n",
      "9_rnn_cells.2.complexLinear_W_f      [40, 20]     [10, 20]     820        800\n",
      "10_rnn_cells.2.complexLinear_W_c     [40, 20]     [10, 20]     820        800\n",
      "11_rnn_cells.2.complexLinear_W_o     [40, 20]     [10, 20]     820        800\n",
      "-----------------------------------------------------------------------------\n",
      "                      Totals\n",
      "Total params            9040\n",
      "Trainable params        9040\n",
      "Non-trainable params       0\n",
      "Mult-Adds               8800\n",
      "=============================================================================\n"
     ]
    },
    {
     "name": "stderr",
     "output_type": "stream",
     "text": [
      "C:\\Users\\Liao\\anaconda3\\lib\\site-packages\\torchsummaryX\\torchsummaryX.py:101: FutureWarning: Dropping of nuisance columns in DataFrame reductions (with 'numeric_only=None') is deprecated; in a future version this will raise TypeError.  Select only valid columns before calling the reduction.\n",
      "  df_sum = df.sum()\n",
      "C:\\Users\\Liao\\anaconda3\\lib\\site-packages\\torchsummaryX\\torchsummaryX.py:101: FutureWarning: Dropping of nuisance columns in DataFrame reductions (with 'numeric_only=None') is deprecated; in a future version this will raise TypeError.  Select only valid columns before calling the reduction.\n",
      "  df_sum = df.sum()\n",
      "C:\\Users\\Liao\\anaconda3\\lib\\site-packages\\torchsummaryX\\torchsummaryX.py:101: FutureWarning: Dropping of nuisance columns in DataFrame reductions (with 'numeric_only=None') is deprecated; in a future version this will raise TypeError.  Select only valid columns before calling the reduction.\n",
      "  df_sum = df.sum()\n"
     ]
    }
   ],
   "source": [
    "import torch\n",
    "from complexNN.complexRNN import complexRNN, complexGRU, complexLSTM\n",
    "\n",
    "\n",
    "if __name__ == '__main__':\n",
    "    batch_size, input_size, hidden_size, seq_len, num_layers = 10, 10, 20, 1, 3\n",
    "    input_tensor = torch.rand((seq_len, batch_size, input_size), dtype=torch.cfloat)\n",
    "    h0, c0 = torch.zeros((num_layers, batch_size, hidden_size)), torch.zeros((num_layers, batch_size, hidden_size))\n",
    "\n",
    "    rnn = complexRNN(input_size, hidden_size, num_layers)\n",
    "    gru = complexGRU(input_size, hidden_size, num_layers)\n",
    "    lstm = complexLSTM(input_size, hidden_size, num_layers)\n",
    "\n",
    "    rnn_out, _ = rnn(input_tensor, h0)\n",
    "    gru_out, _ = gru(input_tensor, h0)\n",
    "    lstm_out, _ = lstm(input_tensor, (h0, c0))\n",
    "\n",
    "    print(rnn_out.shape, gru_out.shape, lstm_out.shape)\n",
    "    summary(rnn, input_tensor, h0)\n",
    "    summary(gru, input_tensor, h0)\n",
    "    summary(lstm, input_tensor, (h0, c0))"
   ]
  },
  {
   "cell_type": "code",
   "execution_count": null,
   "id": "38d55649",
   "metadata": {},
   "outputs": [],
   "source": []
  }
 ],
 "metadata": {
  "kernelspec": {
   "display_name": "Python 3",
   "language": "python",
   "name": "python3"
  },
  "language_info": {
   "codemirror_mode": {
    "name": "ipython",
    "version": 3
   },
   "file_extension": ".py",
   "mimetype": "text/x-python",
   "name": "python",
   "nbconvert_exporter": "python",
   "pygments_lexer": "ipython3",
   "version": "3.7.0"
  },
  "widgets": {
   "application/vnd.jupyter.widget-state+json": {
    "state": {},
    "version_major": 2,
    "version_minor": 0
   }
  }
 },
 "nbformat": 4,
 "nbformat_minor": 5
}
